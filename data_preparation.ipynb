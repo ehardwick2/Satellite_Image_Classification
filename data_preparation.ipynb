{
 "cells": [
  {
   "cell_type": "code",
   "execution_count": 1,
   "id": "f2e19db6",
   "metadata": {},
   "outputs": [],
   "source": [
    "#import packages\n",
    "import pandas as pd\n",
    "import numpy as np\n",
    "import matplotlib.pyplot as plt\n",
    "import tensorflow as tf\n",
    "from tensorflow import keras"
   ]
  },
  {
   "cell_type": "code",
   "execution_count": 2,
   "id": "abcd1a0a",
   "metadata": {},
   "outputs": [],
   "source": [
    "#define common variables\n",
    "channels = 3 #RGB\n",
    "img_w = 64\n",
    "img_h = 64\n",
    "input_shape = (img_h, img_w, channels)\n",
    "path = \"../satellite_images/images\""
   ]
  },
  {
   "cell_type": "code",
   "execution_count": 3,
   "id": "16c7d651",
   "metadata": {},
   "outputs": [
    {
     "name": "stdout",
     "output_type": "stream",
     "text": [
      "Found 10332 files belonging to 2 classes.\n",
      "Using 8266 files for training.\n",
      "Found 10332 files belonging to 2 classes.\n",
      "Using 2066 files for validation.\n"
     ]
    }
   ],
   "source": [
    "#create tf datasets from the images: tf.Data.dataset\n",
    "# labels NoTrees = 0, Trees = 1\n",
    "\n",
    "training = tf.keras.utils.image_dataset_from_directory(directory=path,\n",
    "    labels='inferred',\n",
    "    label_mode='binary',\n",
    "    class_names=None,\n",
    "    color_mode='rgb',\n",
    "    batch_size=16,\n",
    "    image_size=(img_h, img_w),\n",
    "    shuffle=True,\n",
    "    seed=47,\n",
    "    validation_split=0.20,\n",
    "    subset='training')\n",
    "\n",
    "test = tf.keras.utils.image_dataset_from_directory(directory=path,\n",
    "    labels='inferred',\n",
    "    label_mode='binary',\n",
    "    class_names=None,\n",
    "    color_mode='rgb',\n",
    "    batch_size=16,\n",
    "    image_size=(img_h, img_w),\n",
    "    shuffle=True,\n",
    "    seed=47,\n",
    "    validation_split=0.20,\n",
    "    subset='validation')"
   ]
  },
  {
   "cell_type": "code",
   "execution_count": 6,
   "id": "13e4cfa1",
   "metadata": {},
   "outputs": [],
   "source": [
    "# build a network from scratch\n",
    "from tensorflow.keras import layers\n",
    "from tensorflow.keras.models import Sequential\n",
    "from tensorflow.keras.layers import Rescaling, Dense, Conv2D, Flatten, MaxPool2D, BatchNormalization\n",
    "from tensorflow.keras.callbacks import EarlyStopping\n",
    "\n",
    "model_1 = Sequential()\n",
    "model_1.add(Rescaling(1./255))\n",
    "model_1.add(Conv2D(16, kernel_size=3, padding='same', activation = 'relu', input_shape=(img_h, img_w, 3)))\n",
    "model_1.add(MaxPool2D())\n",
    "model_1.add(BatchNormalization())\n",
    "model_1.add(Conv2D(32, kernel_size=3, padding='same', activation= 'relu'))\n",
    "model_1.add(MaxPool2D())\n",
    "model_1.add(BatchNormalization())\n",
    "model_1.add(Flatten())\n",
    "model_1.add(Dense(64, activation='relu'))\n",
    "model_1.add(Dense(2, activation='softmax')) #2 for number of classes\n"
   ]
  },
  {
   "cell_type": "code",
   "execution_count": 9,
   "id": "ce74e490",
   "metadata": {},
   "outputs": [],
   "source": [
    "model_1.compile(optimizer='adam', loss='binary_crossentropy', metrics=['accuracy'])"
   ]
  },
  {
   "cell_type": "code",
   "execution_count": 10,
   "id": "398335a4",
   "metadata": {},
   "outputs": [
    {
     "ename": "ValueError",
     "evalue": "This model has not yet been built. Build the model first by calling `build()` or by calling the model on a batch of data.",
     "output_type": "error",
     "traceback": [
      "\u001b[1;31m---------------------------------------------------------------------------\u001b[0m",
      "\u001b[1;31mValueError\u001b[0m                                Traceback (most recent call last)",
      "Cell \u001b[1;32mIn [10], line 1\u001b[0m\n\u001b[1;32m----> 1\u001b[0m \u001b[43mmodel_1\u001b[49m\u001b[38;5;241;43m.\u001b[39;49m\u001b[43msummary\u001b[49m\u001b[43m(\u001b[49m\u001b[43m)\u001b[49m\n",
      "File \u001b[1;32m~\\anaconda3\\envs\\forestCNN\\lib\\site-packages\\keras\\engine\\training.py:3292\u001b[0m, in \u001b[0;36mModel.summary\u001b[1;34m(self, line_length, positions, print_fn, expand_nested, show_trainable, layer_range)\u001b[0m\n\u001b[0;32m   3262\u001b[0m \u001b[38;5;124;03m\"\"\"Prints a string summary of the network.\u001b[39;00m\n\u001b[0;32m   3263\u001b[0m \n\u001b[0;32m   3264\u001b[0m \u001b[38;5;124;03mArgs:\u001b[39;00m\n\u001b[1;32m   (...)\u001b[0m\n\u001b[0;32m   3289\u001b[0m \u001b[38;5;124;03m    ValueError: if `summary()` is called before the model is built.\u001b[39;00m\n\u001b[0;32m   3290\u001b[0m \u001b[38;5;124;03m\"\"\"\u001b[39;00m\n\u001b[0;32m   3291\u001b[0m \u001b[38;5;28;01mif\u001b[39;00m \u001b[38;5;129;01mnot\u001b[39;00m \u001b[38;5;28mself\u001b[39m\u001b[38;5;241m.\u001b[39mbuilt:\n\u001b[1;32m-> 3292\u001b[0m     \u001b[38;5;28;01mraise\u001b[39;00m \u001b[38;5;167;01mValueError\u001b[39;00m(\n\u001b[0;32m   3293\u001b[0m         \u001b[38;5;124m\"\u001b[39m\u001b[38;5;124mThis model has not yet been built. \u001b[39m\u001b[38;5;124m\"\u001b[39m\n\u001b[0;32m   3294\u001b[0m         \u001b[38;5;124m\"\u001b[39m\u001b[38;5;124mBuild the model first by calling `build()` or by calling \u001b[39m\u001b[38;5;124m\"\u001b[39m\n\u001b[0;32m   3295\u001b[0m         \u001b[38;5;124m\"\u001b[39m\u001b[38;5;124mthe model on a batch of data.\u001b[39m\u001b[38;5;124m\"\u001b[39m\n\u001b[0;32m   3296\u001b[0m     )\n\u001b[0;32m   3297\u001b[0m layer_utils\u001b[38;5;241m.\u001b[39mprint_summary(\n\u001b[0;32m   3298\u001b[0m     \u001b[38;5;28mself\u001b[39m,\n\u001b[0;32m   3299\u001b[0m     line_length\u001b[38;5;241m=\u001b[39mline_length,\n\u001b[1;32m   (...)\u001b[0m\n\u001b[0;32m   3304\u001b[0m     layer_range\u001b[38;5;241m=\u001b[39mlayer_range,\n\u001b[0;32m   3305\u001b[0m )\n",
      "\u001b[1;31mValueError\u001b[0m: This model has not yet been built. Build the model first by calling `build()` or by calling the model on a batch of data."
     ]
    }
   ],
   "source": [
    "model_1.summary()"
   ]
  }
 ],
 "metadata": {
  "kernelspec": {
   "display_name": "forestCNN",
   "language": "python",
   "name": "forestcnn"
  },
  "language_info": {
   "codemirror_mode": {
    "name": "ipython",
    "version": 3
   },
   "file_extension": ".py",
   "mimetype": "text/x-python",
   "name": "python",
   "nbconvert_exporter": "python",
   "pygments_lexer": "ipython3",
   "version": "3.9.7"
  }
 },
 "nbformat": 4,
 "nbformat_minor": 5
}
